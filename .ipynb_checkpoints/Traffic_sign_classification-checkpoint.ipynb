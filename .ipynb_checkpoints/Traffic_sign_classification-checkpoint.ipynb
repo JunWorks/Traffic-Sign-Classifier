{
 "cells": [
  {
   "cell_type": "markdown",
   "metadata": {},
   "source": [
    "### Load data"
   ]
  },
  {
   "cell_type": "code",
   "execution_count": 1,
   "metadata": {},
   "outputs": [
    {
     "name": "stdout",
     "output_type": "stream",
     "text": [
      "(30, 29, 3)\n"
     ]
    }
   ],
   "source": [
    "import cv2\n",
    "import glob\n",
    "import pickle\n",
    "import numpy as np\n",
    "import pandas as pd\n",
    "\n",
    "im = cv2.imread('../Train/0/00000_00000_00000.png') \n",
    "print(im.shape)"
   ]
  },
  {
   "cell_type": "code",
   "execution_count": 2,
   "metadata": {},
   "outputs": [],
   "source": [
    "# function to read and resize images, get labels and store them into np array\n",
    "def get_image_label_resize(label, filelist, dim = (32, 32), dataset = 'Train'):\n",
    "    x = np.array([cv2.resize(cv2.imread(fname), dim, interpolation = cv2.INTER_AREA) for fname in filelist])\n",
    "    y = np.array([label] * len(filelist))\n",
    "        \n",
    "    #print('{} examples loaded for label {}'.format(x.shape[0], label))\n",
    "    return (x, y)    \n",
    "    \n",
    "# data for label 0. I store them in parent level so that they won't be uploaded to github\n",
    "filelist = glob.glob('../Train/'+'0'+'/*.png')\n",
    "trainx, trainy = get_image_label_resize(0, glob.glob('../Train/'+str(0)+'/*.png'))"
   ]
  },
  {
   "cell_type": "code",
   "execution_count": 3,
   "metadata": {},
   "outputs": [],
   "source": [
    "# go throgh all others labels and store images into np array\n",
    "for label in range(1, 43):\n",
    "    filelist = glob.glob('../Train/'+str(label)+'/*.png')\n",
    "    x, y = get_image_label_resize(label, filelist)\n",
    "    trainx = np.concatenate((trainx ,x))\n",
    "    trainy = np.concatenate((trainy ,y))\n",
    "# save data into a pickle to later use\n",
    "# trainx.dump('../trainx.npy')\n",
    "# trainy.dump('../trainy.npy')"
   ]
  },
  {
   "cell_type": "code",
   "execution_count": 11,
   "metadata": {},
   "outputs": [],
   "source": [
    "# load data from pickle\n",
    "trainx = np.load('../Trainx.npy', allow_pickle=True)\n",
    "trainy = np.load('../Trainy.npy', allow_pickle=True)"
   ]
  },
  {
   "cell_type": "code",
   "execution_count": 10,
   "metadata": {},
   "outputs": [],
   "source": [
    "# get path for test images\n",
    "testfile = pd.read_csv('Test.csv')['Path'].apply(lambda x: '../' + x).tolist()\n",
    "\n",
    "X_test = np.array([cv2.resize(cv2.imread(fname), (32, 32), interpolation = cv2.INTER_AREA) for fname in testfile])\n",
    "# X_test.dump('../testx.npy')\n",
    "\n",
    "y_test = np.array(pd.read_csv('Test.csv')['ClassId'])\n",
    "# y_test.dump('../testy.npy')"
   ]
  },
  {
   "cell_type": "code",
   "execution_count": 12,
   "metadata": {},
   "outputs": [],
   "source": [
    "# load data from pickle\n",
    "X_test = np.load('../testx.npy', allow_pickle=True)\n",
    "y_test = np.load('../testy.npy', allow_pickle=True)"
   ]
  },
  {
   "cell_type": "code",
   "execution_count": 13,
   "metadata": {},
   "outputs": [],
   "source": [
    "# shuffle training data and split them into training and validation\n",
    "indices = np.random.permutation(trainx.shape[0])\n",
    "# 20% to val\n",
    "split_idx = int(trainx.shape[0]*0.8)\n",
    "train_idx, val_idx = indices[:split_idx], indices[split_idx:]\n",
    "X_train, X_validation = trainx[train_idx,:], trainx[val_idx,:]\n",
    "y_train, y_validation = trainy[train_idx], trainy[val_idx]"
   ]
  },
  {
   "cell_type": "code",
   "execution_count": 14,
   "metadata": {},
   "outputs": [
    {
     "name": "stdout",
     "output_type": "stream",
     "text": [
      "There are 31367 training examples \n",
      "There are 7842 validation examples\n",
      "There are 12630 testing examples\n",
      "Image data shape is (32, 32, 3)\n",
      "There are 43 classes\n"
     ]
    }
   ],
   "source": [
    "# get overall stat of the whole dataset\n",
    "n_train = X_train.shape[0]\n",
    "n_validation = X_validation.shape[0]\n",
    "n_test = X_test.shape[0]\n",
    "image_shape = X_train[0].shape\n",
    "n_classes = len(np.unique(y_train))\n",
    "print(\"There are {} training examples \".format(n_train))\n",
    "print(\"There are {} validation examples\".format(n_validation))\n",
    "print(\"There are {} testing examples\".format(n_test))\n",
    "print(\"Image data shape is {}\".format(image_shape))\n",
    "print(\"There are {} classes\".format(n_classes))"
   ]
  },
  {
   "cell_type": "code",
   "execution_count": 15,
   "metadata": {},
   "outputs": [],
   "source": [
    "# convert the images to grayscale\n",
    "X_train_gry = np.sum(X_train/3, axis=3, keepdims=True)\n",
    "X_validation_gry = np.sum(X_validation/3, axis=3, keepdims=True)\n",
    "X_test_gry = np.sum(X_test/3, axis=3, keepdims=True)\n",
    "\n",
    "# Normalize data\n",
    "X_train_normalized_gry = (X_train_gry-128)/128\n",
    "X_validation_normalized_gry = (X_validation_gry-128)/128\n",
    "X_test_normalized_gry = (X_test_gry-128)/128"
   ]
  },
  {
   "cell_type": "code",
   "execution_count": 23,
   "metadata": {},
   "outputs": [
    {
     "data": {
      "text/plain": [
       "<matplotlib.image.AxesImage at 0x1340cbc50>"
      ]
     },
     "execution_count": 23,
     "metadata": {},
     "output_type": "execute_result"
    },
    {
     "data": {
      "image/png": "[encoded data removed]",
      "text/plain": [
       "<Figure size 432x288 with 2 Axes>"
      ]
     },
     "metadata": {
      "needs_background": "light"
     },
     "output_type": "display_data"
    }
   ],
   "source": [
    "import matplotlib.pyplot as plt\n",
    "%matplotlib inline\n",
    "plt.style.use('seaborn-colorblind')\n",
    "\n",
    "# descriptions for each label\n",
    "sign = pd.read_csv('signnames.csv')\n",
    "\n",
    "# pick an image, display the original and the normalized gray image\n",
    "index = np.random.randint(0, n_train)\n",
    "fig, ax = plt.subplots(1,2)\n",
    "ax[0].set_title('original ' + sign.loc[sign['ClassId'] ==y_train[index], 'SignName'].values[0])\n",
    "ax[0].imshow(cv2.cvtColor(X_train[index], cv2.COLOR_BGR2RGB))\n",
    "\n",
    "ax[1].set_title('norm_gry ' + sign.loc[sign['ClassId'] ==y_train[index], 'SignName'].values[0])\n",
    "ax[1].imshow(X_train_normalized_gry[index].squeeze(), cmap='gray')"
   ]
  },
  {
   "cell_type": "code",
   "execution_count": 9,
   "metadata": {},
   "outputs": [],
   "source": [
    "# update the train, val and test data with normalized gray images\n",
    "X_train = X_train_normalized_gry\n",
    "X_validation = X_validation_normalized_gry\n",
    "X_test = X_test_normalized_gry"
   ]
  },
  {
   "cell_type": "code",
   "execution_count": 78,
   "metadata": {},
   "outputs": [],
   "source": [
    "import tensorflow as tf\n",
    "from tensorflow.keras import datasets, layers, models\n",
    "\n",
    "model = models.Sequential()\n",
    "# Conv 32x32x1 => 28x28x6.\n",
    "model.add(layers.Conv2D(filters = 6, kernel_size = (5, 5), strides=(1, 1), padding='valid', \n",
    "                        activation='relu', data_format = 'channels_last', input_shape = (32, 32, 1)))\n",
    "# Maxpool 28x28x6 => 14x14x6\n",
    "model.add(layers.MaxPooling2D((2, 2)))\n",
    "# Conv 14x14x6 => 10x10x16\n",
    "model.add(layers.Conv2D(16, (5, 5), activation='relu'))\n",
    "# Maxpool 10x10x16 => 5x5x16\n",
    "model.add(layers.MaxPooling2D((2, 2)))\n",
    "# Flatten 5x5x16 => 400\n",
    "model.add(layers.Flatten())\n",
    "# Fully connected 400 => 120\n",
    "model.add(layers.Dense(120, activation='relu'))\n",
    "# Fully connected 120 => 84\n",
    "model.add(layers.Dense(84, activation='relu'))\n",
    "# Dropout\n",
    "model.add(layers.Dropout(0.2))\n",
    "# Fully connected, output layer 84 => 43\n",
    "model.add(layers.Dense(43, activation='softmax'))"
   ]
  },
  {
   "cell_type": "code",
   "execution_count": 79,
   "metadata": {},
   "outputs": [
    {
     "name": "stdout",
     "output_type": "stream",
     "text": [
      "Model: \"sequential_7\"\n",
      "_________________________________________________________________\n",
      "Layer (type)                 Output Shape              Param #   \n",
      "=================================================================\n",
      "conv2d_12 (Conv2D)           (None, 28, 28, 6)         156       \n",
      "_________________________________________________________________\n",
      "max_pooling2d_12 (MaxPooling (None, 14, 14, 6)         0         \n",
      "_________________________________________________________________\n",
      "conv2d_13 (Conv2D)           (None, 10, 10, 16)        2416      \n",
      "_________________________________________________________________\n",
      "max_pooling2d_13 (MaxPooling (None, 5, 5, 16)          0         \n",
      "_________________________________________________________________\n",
      "flatten_6 (Flatten)          (None, 400)               0         \n",
      "_________________________________________________________________\n",
      "dense_17 (Dense)             (None, 120)               48120     \n",
      "_________________________________________________________________\n",
      "dense_18 (Dense)             (None, 84)                10164     \n",
      "_________________________________________________________________\n",
      "dropout_5 (Dropout)          (None, 84)                0         \n",
      "_________________________________________________________________\n",
      "dense_19 (Dense)             (None, 43)                3655      \n",
      "=================================================================\n",
      "Total params: 64,511\n",
      "Trainable params: 64,511\n",
      "Non-trainable params: 0\n",
      "_________________________________________________________________\n"
     ]
    }
   ],
   "source": [
    "model.summary()"
   ]
  },
  {
   "cell_type": "code",
   "execution_count": 80,
   "metadata": {},
   "outputs": [
    {
     "name": "stdout",
     "output_type": "stream",
     "text": [
      "Train on 31367 samples, validate on 7842 samples\n",
      "Epoch 1/10\n",
      "31367/31367 [==============================] - 8s 255us/sample - loss: 2.2325 - accuracy: 0.4007 - val_loss: 0.8845 - val_accuracy: 0.7619\n",
      "Epoch 2/10\n",
      "31367/31367 [==============================] - 8s 241us/sample - loss: 0.7074 - accuracy: 0.7961 - val_loss: 0.4006 - val_accuracy: 0.8986\n",
      "Epoch 3/10\n",
      "31367/31367 [==============================] - 8s 242us/sample - loss: 0.3948 - accuracy: 0.8884 - val_loss: 0.2567 - val_accuracy: 0.9320\n",
      "Epoch 4/10\n",
      "31367/31367 [==============================] - 8s 243us/sample - loss: 0.2703 - accuracy: 0.9242 - val_loss: 0.1827 - val_accuracy: 0.9547\n",
      "Epoch 5/10\n",
      "31367/31367 [==============================] - 8s 241us/sample - loss: 0.2034 - accuracy: 0.9419 - val_loss: 0.1470 - val_accuracy: 0.9647\n",
      "Epoch 6/10\n",
      "31367/31367 [==============================] - 8s 240us/sample - loss: 0.1582 - accuracy: 0.9550 - val_loss: 0.1352 - val_accuracy: 0.9651\n",
      "Epoch 7/10\n",
      "31367/31367 [==============================] - 8s 243us/sample - loss: 0.1273 - accuracy: 0.9635 - val_loss: 0.1103 - val_accuracy: 0.9731\n",
      "Epoch 8/10\n",
      "31367/31367 [==============================] - 8s 243us/sample - loss: 0.1024 - accuracy: 0.9715 - val_loss: 0.1218 - val_accuracy: 0.9656\n",
      "Epoch 9/10\n",
      "31367/31367 [==============================] - 8s 246us/sample - loss: 0.1024 - accuracy: 0.9713 - val_loss: 0.0843 - val_accuracy: 0.9796\n",
      "Epoch 10/10\n",
      "31367/31367 [==============================] - 8s 246us/sample - loss: 0.0766 - accuracy: 0.9786 - val_loss: 0.0934 - val_accuracy: 0.9759\n"
     ]
    }
   ],
   "source": [
    "# specify optimizer, loss function and metric\n",
    "model.compile(optimizer='adam',\n",
    "              loss='sparse_categorical_crossentropy',\n",
    "              metrics=['accuracy'])\n",
    "\n",
    "# training batch_size=128, epochs=10\n",
    "conv = model.fit(X_train, y_train, batch_size=128, epochs=10, \n",
    "                    validation_data=(X_validation, y_validation))"
   ]
  },
  {
   "cell_type": "code",
   "execution_count": 82,
   "metadata": {},
   "outputs": [
    {
     "data": {
      "image/png": "[encoded data removed]",
      "text/plain": [
       "<Figure size 864x432 with 2 Axes>"
      ]
     },
     "metadata": {
      "needs_background": "light"
     },
     "output_type": "display_data"
    }
   ],
   "source": [
    "acc = [conv.history['accuracy'], conv.history['val_accuracy']]\n",
    "loss = [conv.history['loss'], conv.history['val_loss']]\n",
    "\n",
    "epoch = range(10)\n",
    "\n",
    "plt.figure(figsize=(12, 6))\n",
    "plt.subplot(1, 2, 1)\n",
    "plt.plot(epoch, acc[0], label='Training Accuracy')\n",
    "plt.plot(epoch, acc[1], label='Validation Accuracy')\n",
    "plt.legend(loc='lower right')\n",
    "plt.title('Training and Validation Accuracy')\n",
    "\n",
    "plt.subplot(1, 2, 2)\n",
    "plt.plot(epoch, loss[0], label='Training Loss')\n",
    "plt.plot(epoch, loss[1], label='Validation Loss')\n",
    "plt.legend(loc='upper right')\n",
    "plt.title('Training and Validation Loss')\n",
    "plt.show()"
   ]
  },
  {
   "cell_type": "code",
   "execution_count": 54,
   "metadata": {},
   "outputs": [
    {
     "name": "stdout",
     "output_type": "stream",
     "text": [
      "12630/12630 [==============================] - 1s 82us/sample - loss: 0.6084 - accuracy: 0.9250\n"
     ]
    },
    {
     "data": {
      "text/plain": [
       "[0.6084245350228081, 0.9250198]"
      ]
     },
     "execution_count": 54,
     "metadata": {},
     "output_type": "execute_result"
    }
   ],
   "source": [
    "model.evaluate(x=X_test, y=y_test)"
   ]
  },
  {
   "cell_type": "code",
   "execution_count": 97,
   "metadata": {},
   "outputs": [
    {
     "data": {
      "text/plain": [
       "<matplotlib.image.AxesImage at 0x149dfdbd0>"
      ]
     },
     "execution_count": 97,
     "metadata": {},
     "output_type": "execute_result"
    },
    {
     "data": {
      "image/png": "[encoded data removed]",
      "text/plain": [
       "<Figure size 432x288 with 1 Axes>"
      ]
     },
     "metadata": {
      "needs_background": "light"
     },
     "output_type": "display_data"
    }
   ],
   "source": [
    "index = np.random.randint(0, n_test)\n",
    "im = X_test[index]\n",
    "fig, ax = plt.subplots()\n",
    "ax.set_title(sign.loc[sign['ClassId'] ==np.argmax(model.predict(np.array([im]))), 'SignName'].values[0])\n",
    "ax.imshow(im.squeeze(), cmap = 'gray')"
   ]
  }
 ],
 "metadata": {
  "kernelspec": {
   "display_name": "Python 3",
   "language": "python",
   "name": "python3"
  },
  "language_info": {
   "codemirror_mode": {
    "name": "ipython",
    "version": 3
   },
   "file_extension": ".py",
   "mimetype": "text/x-python",
   "name": "python",
   "nbconvert_exporter": "python",
   "pygments_lexer": "ipython3",
   "version": "3.7.4"
  }
 },
 "nbformat": 4,
 "nbformat_minor": 2
}
